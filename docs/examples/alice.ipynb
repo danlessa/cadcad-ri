{
 "cells": [
  {
   "cell_type": "code",
   "execution_count": 1,
   "metadata": {},
   "outputs": [],
   "source": [
    "from cadcad.spaces import space\n",
    "from cadcad.dynamics import block\n",
    "from cadcad.spaces import Bit, Real, Integer, EmptySpace\n",
    "from cadcad.points import Point\n",
    "from cadcad.systems import Experiment\n",
    "from copy import deepcopy\n",
    "import numpy as np\n",
    "import pandas as pd\n",
    "import matplotlib.pyplot as plt"
   ]
  },
  {
   "cell_type": "code",
   "execution_count": 2,
   "metadata": {},
   "outputs": [],
   "source": [
    "# ISSUE: Providing `int` values will generate an mismatch for `float dimensions`,\n",
    "# even thought it is strictly an subset of it.\n",
    "@space\n",
    "class CartesianPlane:\n",
    "    x: float\n",
    "    y: float\n",
    "\n",
    "my_point = Point(CartesianPlane, {\"x\": -5.0, \"y\": 7.0})\n",
    "\n",
    "CartesianPlaneDot = CartesianPlane.rename_dims({'x':'dx', 'y':'dy'})"
   ]
  },
  {
   "cell_type": "code",
   "execution_count": 3,
   "metadata": {},
   "outputs": [],
   "source": [
    "@space\n",
    "class Particle:\n",
    "    pos: CartesianPlane\n",
    "    vel: CartesianPlaneDot\n",
    "    # used to encode a constraint\n",
    "    #but this is exactly the kind of thing\n",
    "    #i would like to push into the model params\n",
    "    maxspeed: float"
   ]
  },
  {
   "cell_type": "code",
   "execution_count": 4,
   "metadata": {},
   "outputs": [],
   "source": [
    "\n",
    "# This block serves as a constraint checker for Particle `i`\n",
    "# We would like to be able to assign this block to the Space Paricle\n",
    "# As a built-in constraint\n",
    "\n",
    "@block\n",
    "def isValidParticle(domain:Point[Particle])-> Point[Bit]:\n",
    "    input = deepcopy(domain)\n",
    "    dx = input['vel']['dx']\n",
    "    dy = input['vel']['dy']\n",
    "\n",
    "    vmax = input['maxspeed']\n",
    "    \n",
    "    is_speed_below_max = bool(dx**2 + dy**2 <= vmax ** 2)\n",
    "\n",
    "    output = {'bit': is_speed_below_max}\n",
    "\n",
    "    return Point(Bit, output)"
   ]
  },
  {
   "cell_type": "code",
   "execution_count": 5,
   "metadata": {},
   "outputs": [],
   "source": [
    "@block\n",
    "def projectValidParticle(domain:Point[Particle])-> Point[Particle]:\n",
    "    \"\"\"\n",
    "    Caps the Particle Speed to its `maxspeed` attribute while keeping\n",
    "    the same direction.\n",
    "    \"\"\"\n",
    "    input = deepcopy(domain)\n",
    "\n",
    "    bit = isValidParticle(input)\n",
    "    output = input\n",
    "    if not(bit['bit']):\n",
    "        dx= input['vel']['dx']\n",
    "        dy= input['vel']['dy']\n",
    "        magnitude = np.sqrt(dx**2+dy**2)\n",
    "        output['vel']['dx'] = input['maxspeed']*dx/magnitude\n",
    "        output['vel']['dy'] = input['maxspeed']*dy/magnitude\n",
    "      \n",
    "    return output"
   ]
  },
  {
   "cell_type": "code",
   "execution_count": 6,
   "metadata": {},
   "outputs": [],
   "source": [
    "Acc = CartesianPlane.rename_dims({'x':'ddx', 'y':'ddy'})\n",
    "AliceUpdateDomain = (Particle * Acc).rename_dims({'cartesianplane':\"acc\"})\n"
   ]
  },
  {
   "cell_type": "code",
   "execution_count": 7,
   "metadata": {},
   "outputs": [],
   "source": [
    "@block\n",
    "def particleSubspace(domain: Point[AliceUpdateDomain])-> Point[Particle]:\n",
    "    input = deepcopy(domain)\n",
    "    return Point(Particle, input.data['particle'])"
   ]
  },
  {
   "cell_type": "code",
   "execution_count": 8,
   "metadata": {},
   "outputs": [],
   "source": [
    "@block\n",
    "def aliceUpdate(domain:Point[AliceUpdateDomain])-> Point[Particle]:\n",
    "    input = deepcopy(domain)\n",
    "    output = particleSubspace(input)\n",
    "\n",
    "    output['pos']['x']  += input['particle']['vel']['dx']\n",
    "    output['pos']['y']  += input['particle']['vel']['dy']\n",
    "\n",
    "    output['vel']['dx']  += input['acc']['ddx']\n",
    "    output['vel']['dy']  += input['acc']['ddy']\n",
    "\n",
    "    output = projectValidParticle(output)\n",
    "\n",
    "    return output"
   ]
  },
  {
   "cell_type": "code",
   "execution_count": 9,
   "metadata": {},
   "outputs": [],
   "source": [
    "@block\n",
    "def randomWalk(domain:Point[EmptySpace])-> Point[Acc]:\n",
    "    data = {}\n",
    "    data['ddx'] = .005+np.random.randn()/5.0\n",
    "    data['ddy'] = .005+np.random.randn()/5.0\n",
    "\n",
    "    return Point(Acc, data)"
   ]
  },
  {
   "cell_type": "code",
   "execution_count": 10,
   "metadata": {},
   "outputs": [],
   "source": [
    "emptyPoint = Point(EmptySpace,{})\n",
    "\n",
    "@block\n",
    "def aliceDynamics(domain:Point[Particle]) -> Point[Particle]:\n",
    "    alice = deepcopy(domain)\n",
    "    acc = randomWalk(emptyPoint)\n",
    "    \n",
    "    arg_data = {}\n",
    "    arg_data['particle'] = alice.data\n",
    "    arg_data['acc'] = acc.data\n",
    "\n",
    "    args = Point(AliceUpdateDomain, arg_data)\n",
    "\n",
    "    output = aliceUpdate(args)\n",
    "\n",
    "    return output"
   ]
  },
  {
   "cell_type": "code",
   "execution_count": 11,
   "metadata": {},
   "outputs": [
    {
     "data": {
      "text/plain": [
       "{'pos': {'x': 'float', 'y': 'float'},\n",
       " 'vel': {'dx': 'float', 'dy': 'float'},\n",
       " 'maxspeed': 'float'}"
      ]
     },
     "execution_count": 11,
     "metadata": {},
     "output_type": "execute_result"
    }
   ],
   "source": [
    "Particle.unroll_schema()"
   ]
  },
  {
   "cell_type": "code",
   "execution_count": 12,
   "metadata": {},
   "outputs": [
    {
     "ename": "BlockInputError",
     "evalue": "Block aliceDynamics requires Point[['Particle']] as input; you passed Point[Particle]",
     "output_type": "error",
     "traceback": [
      "\u001b[0;31m---------------------------------------------------------------------------\u001b[0m",
      "\u001b[0;31mBlockInputError\u001b[0m                           Traceback (most recent call last)",
      "Cell \u001b[0;32mIn[12], line 8\u001b[0m\n\u001b[1;32m      5\u001b[0m experiment_params \u001b[39m=\u001b[39m {\u001b[39m\"\u001b[39m\u001b[39miteration_n\u001b[39m\u001b[39m\"\u001b[39m: \u001b[39m5\u001b[39m, \u001b[39m\"\u001b[39m\u001b[39msteps\u001b[39m\u001b[39m\"\u001b[39m: \u001b[39m25\u001b[39m}\n\u001b[1;32m      6\u001b[0m my_experiment \u001b[39m=\u001b[39m Experiment(initAlice, experiment_params, (aliceDynamics,))\n\u001b[0;32m----> 8\u001b[0m results \u001b[39m=\u001b[39m my_experiment\u001b[39m.\u001b[39;49mrun()\n",
      "File \u001b[0;32m~/repos/cadcad-org/cadcad-ri/cadcad/systems.py:91\u001b[0m, in \u001b[0;36mExperiment.run\u001b[0;34m(self)\u001b[0m\n\u001b[1;32m     89\u001b[0m \u001b[39mfor\u001b[39;00m _ \u001b[39min\u001b[39;00m \u001b[39mrange\u001b[39m(\u001b[39mself\u001b[39m\u001b[39m.\u001b[39mexperiment_params[\u001b[39m\"\u001b[39m\u001b[39msteps\u001b[39m\u001b[39m\"\u001b[39m]):\n\u001b[1;32m     90\u001b[0m     \u001b[39mfor\u001b[39;00m block \u001b[39min\u001b[39;00m \u001b[39mself\u001b[39m\u001b[39m.\u001b[39mpipeline:\n\u001b[0;32m---> 91\u001b[0m         next_state \u001b[39m=\u001b[39m \u001b[39mself\u001b[39;49m\u001b[39m.\u001b[39;49m_execute_and_validate_block(current_state, block)\n\u001b[1;32m     92\u001b[0m         current_state \u001b[39m=\u001b[39m next_state\n\u001b[1;32m     93\u001b[0m     result\u001b[39m.\u001b[39mappend(current_state)\n",
      "File \u001b[0;32m~/repos/cadcad-org/cadcad-ri/cadcad/systems.py:70\u001b[0m, in \u001b[0;36mExperiment._execute_and_validate_block\u001b[0;34m(current_state, block)\u001b[0m\n\u001b[1;32m     67\u001b[0m \u001b[39m@staticmethod\u001b[39m\n\u001b[1;32m     68\u001b[0m \u001b[39mdef\u001b[39;00m \u001b[39m_execute_and_validate_block\u001b[39m(current_state, block):\n\u001b[1;32m     69\u001b[0m     \u001b[39mif\u001b[39;00m current_state\u001b[39m.\u001b[39mspace\u001b[39m.\u001b[39mname() \u001b[39m!=\u001b[39m block\u001b[39m.\u001b[39mdomain_names:\n\u001b[0;32m---> 70\u001b[0m         \u001b[39mraise\u001b[39;00m BlockInputError(current_state, block)\n\u001b[1;32m     71\u001b[0m     next_state \u001b[39m=\u001b[39m block(current_state)\n\u001b[1;32m     72\u001b[0m     \u001b[39mif\u001b[39;00m next_state\u001b[39m.\u001b[39mspace\u001b[39m.\u001b[39mname() \u001b[39m!=\u001b[39m block\u001b[39m.\u001b[39mcodomain_names:\n",
      "\u001b[0;31mBlockInputError\u001b[0m: Block aliceDynamics requires Point[['Particle']] as input; you passed Point[Particle]"
     ]
    }
   ],
   "source": [
    "initAlice = Point(Particle, {'pos': {'x': 0.0, 'y': 0.0},\n",
    "                             'vel': {'dx': -1.0, 'dy': -1.0},\n",
    "                             'maxspeed': .2})\n",
    "\n",
    "experiment_params = {\"iteration_n\": 5, \"steps\": 25}\n",
    "# BUG: We're having the following error:\n",
    "# Block aliceDynamics requires Point[['Particle']] as input; \n",
    "# you passed Point[Particle]\n",
    "my_experiment = Experiment(initAlice, experiment_params, (aliceDynamics,))\n",
    "\n",
    "results = my_experiment.run()\n"
   ]
  },
  {
   "cell_type": "code",
   "execution_count": null,
   "metadata": {},
   "outputs": [],
   "source": [
    "results"
   ]
  },
  {
   "cell_type": "code",
   "execution_count": null,
   "metadata": {},
   "outputs": [],
   "source": [
    "def flattenHer(results, exp_params):\n",
    "    n = exp_params[\"iteration_n\"]\n",
    "    m = exp_params[\"steps\"]\n",
    "    dfs = []\n",
    "    for j in range(n):\n",
    "        d = results[j].data\n",
    "        r = np.zeros((m,4))\n",
    "        for i in range(m):\n",
    "\n",
    "            r[i,:]= [d[i]['pos']['x'], d[i]['pos']['y'],d[i]['vel']['dx'], d[i]['vel']['dy']]\n",
    "        df = pd.DataFrame(r, columns=['x','y','dx','dy'])\n",
    "        df[\"run\"]  = j\n",
    "        dfs.append(df)\n",
    "\n",
    "    return pd.concat(dfs)"
   ]
  },
  {
   "cell_type": "code",
   "execution_count": null,
   "metadata": {},
   "outputs": [],
   "source": [
    "df = flattenHer(results,experiment_params)"
   ]
  },
  {
   "cell_type": "code",
   "execution_count": null,
   "metadata": {},
   "outputs": [],
   "source": [
    "runs = df.run.unique()\n",
    "for k in runs:\n",
    "    df[df.run==k].plot(x=\"x\", y='y',kind=\"scatter\")\n",
    "    r = df[df.run==k].values\n",
    "    n = len(r)\n",
    "    for i in range(n):\n",
    "        plt.arrow(*r[i,:4], width = 0.01, \n",
    "        length_includes_head=True)"
   ]
  }
 ],
 "metadata": {
  "kernelspec": {
   "display_name": ".venv",
   "language": "python",
   "name": "python3"
  },
  "language_info": {
   "codemirror_mode": {
    "name": "ipython",
    "version": 3
   },
   "file_extension": ".py",
   "mimetype": "text/x-python",
   "name": "python",
   "nbconvert_exporter": "python",
   "pygments_lexer": "ipython3",
   "version": "3.10.9"
  },
  "orig_nbformat": 4,
  "vscode": {
   "interpreter": {
    "hash": "81915e5a5cda67859547084b8b4c7e7fc7d1071842350fd74a092b37be69c34c"
   }
  }
 },
 "nbformat": 4,
 "nbformat_minor": 2
}
